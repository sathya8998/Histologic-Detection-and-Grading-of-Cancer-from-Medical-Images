{
  "cells": [
    {
      "cell_type": "code",
      "execution_count": null,
      "metadata": {
        "_cell_guid": "b1076dfc-b9ad-4769-8c92-a6c4dae69d19",
        "_uuid": "8f2839f25d086af736a60e9eeb907d3b93b6e0e5",
        "execution": {
          "iopub.execute_input": "2021-03-22T19:02:35.522034Z",
          "iopub.status.busy": "2021-03-22T19:02:35.521010Z",
          "iopub.status.idle": "2021-03-22T19:02:42.876093Z",
          "shell.execute_reply": "2021-03-22T19:02:42.875387Z"
        },
        "papermill": {
          "duration": 7.392704,
          "end_time": "2021-03-22T19:02:42.876319",
          "exception": false,
          "start_time": "2021-03-22T19:02:35.483615",
          "status": "completed"
        },
        "tags": [],
        "id": "mGfd9gRBqblc"
      },
      "outputs": [],
      "source": [
        "import pandas as pd\n",
        "import numpy as np\n",
        "import os\n",
        "from glob import glob\n",
        "import random\n",
        "import matplotlib.pylab as plt\n",
        "import keras.backend as K\n",
        "from sklearn.model_selection import train_test_split\n",
        "import tensorflow as tf\n",
        "import keras\n",
        "from keras.utils.np_utils import to_categorical\n",
        "from keras.models import Sequential\n",
        "from keras.optimizers import SGD, RMSprop, Adam, Adagrad, Adadelta\n",
        "from keras.layers import Dense, Dropout, Activation, Flatten, BatchNormalization, Conv2D, MaxPool2D, MaxPooling2D\n",
        "from tensorflow.keras.callbacks import ReduceLROnPlateau, ModelCheckpoint, EarlyStopping\n",
        "from tensorflow.keras.applications import VGG16\n",
        "\n",
        "%matplotlib inline"
      ]
    },
    {
      "cell_type": "code",
      "execution_count": null,
      "metadata": {
        "execution": {
          "iopub.execute_input": "2021-03-22T19:02:42.935202Z",
          "iopub.status.busy": "2021-03-22T19:02:42.934297Z",
          "iopub.status.idle": "2021-03-22T19:02:42.945936Z",
          "shell.execute_reply": "2021-03-22T19:02:42.946951Z"
        },
        "papermill": {
          "duration": 0.044064,
          "end_time": "2021-03-22T19:02:42.947117",
          "exception": false,
          "start_time": "2021-03-22T19:02:42.903053",
          "status": "completed"
        },
        "tags": [],
        "id": "1XSj8SMyqblc",
        "outputId": "c85ff1f1-1369-47a3-c10f-0ce6ec91fc98"
      },
      "outputs": [
        {
          "name": "stdout",
          "output_type": "stream",
          "text": [
            "REPLICAS:  1\n"
          ]
        }
      ],
      "source": [
        "# Detect hardware, return appropriate distribution strategy\n",
        "try:\n",
        "    tpu = tf.distribute.cluster_resolver.TPUClusterResolver()\n",
        "    print('Running on TPU ', tpu.master())\n",
        "except ValueError:\n",
        "    tpu = None\n",
        "\n",
        "if tpu:\n",
        "    tf.config.experimental_connect_to_cluster(tpu)\n",
        "    tf.tpu.experimental.initialize_tpu_system(tpu)\n",
        "    strategy = tf.distribute.experimental.TPUStrategy(tpu)\n",
        "else:\n",
        "    strategy = tf.distribute.get_strategy() # default distribution strategy in Tensorflow. Works on CPU and single GPU.\n",
        "\n",
        "print(\"REPLICAS: \", strategy.num_replicas_in_sync)"
      ]
    },
    {
      "cell_type": "code",
      "execution_count": null,
      "metadata": {
        "execution": {
          "iopub.execute_input": "2021-03-22T19:02:43.004875Z",
          "iopub.status.busy": "2021-03-22T19:02:43.004175Z",
          "iopub.status.idle": "2021-03-22T19:07:00.025263Z",
          "shell.execute_reply": "2021-03-22T19:07:00.026177Z"
        },
        "papermill": {
          "duration": 257.053104,
          "end_time": "2021-03-22T19:07:00.026497",
          "exception": false,
          "start_time": "2021-03-22T19:02:42.973393",
          "status": "completed"
        },
        "tags": [],
        "id": "9OId6i-pqbld",
        "outputId": "d0bb954c-fba0-4126-9695-4fe96b276560"
      },
      "outputs": [
        {
          "name": "stdout",
          "output_type": "stream",
          "text": [
            "../input/breast-histopathology-images/IDC_regular_ps50_idx5/10295/0/10295_idx5_x1351_y1101_class0.png\n",
            "../input/breast-histopathology-images/IDC_regular_ps50_idx5/10295/0/10295_idx5_x1501_y501_class0.png\n",
            "../input/breast-histopathology-images/IDC_regular_ps50_idx5/10295/0/10295_idx5_x1501_y1101_class0.png\n",
            "../input/breast-histopathology-images/IDC_regular_ps50_idx5/10295/0/10295_idx5_x451_y901_class0.png\n",
            "../input/breast-histopathology-images/IDC_regular_ps50_idx5/10295/0/10295_idx5_x801_y451_class0.png\n",
            "../input/breast-histopathology-images/IDC_regular_ps50_idx5/10295/0/10295_idx5_x151_y1051_class0.png\n",
            "../input/breast-histopathology-images/IDC_regular_ps50_idx5/10295/0/10295_idx5_x1351_y901_class0.png\n",
            "../input/breast-histopathology-images/IDC_regular_ps50_idx5/10295/0/10295_idx5_x701_y651_class0.png\n",
            "../input/breast-histopathology-images/IDC_regular_ps50_idx5/10295/0/10295_idx5_x951_y1401_class0.png\n",
            "../input/breast-histopathology-images/IDC_regular_ps50_idx5/10295/0/10295_idx5_x601_y501_class0.png\n"
          ]
        }
      ],
      "source": [
        "imagePatches = glob('../input/breast-histopathology-images/IDC_regular_ps50_idx5/**/*.png', recursive=True)\n",
        "for filename in imagePatches[0:10]:\n",
        "    print(filename)"
      ]
    },
    {
      "cell_type": "code",
      "execution_count": null,
      "metadata": {
        "execution": {
          "iopub.execute_input": "2021-03-22T19:07:00.108397Z",
          "iopub.status.busy": "2021-03-22T19:07:00.097997Z",
          "iopub.status.idle": "2021-03-22T19:07:00.189813Z",
          "shell.execute_reply": "2021-03-22T19:07:00.189184Z"
        },
        "papermill": {
          "duration": 0.136262,
          "end_time": "2021-03-22T19:07:00.189992",
          "exception": false,
          "start_time": "2021-03-22T19:07:00.053730",
          "status": "completed"
        },
        "tags": [],
        "id": "ZuTK0kM5qbld"
      },
      "outputs": [],
      "source": [
        "# Two arrays holding images by class type\n",
        "\n",
        "class0 = [] # 0 = no cancer\n",
        "class1 = [] # 1 = cancer\n",
        "\n",
        "for filename in imagePatches:\n",
        "    if filename.endswith(\"class0.png\"):\n",
        "         class0.append(filename)\n",
        "    else:\n",
        "        class1.append(filename)"
      ]
    },
    {
      "cell_type": "code",
      "execution_count": null,
      "metadata": {
        "execution": {
          "iopub.execute_input": "2021-03-22T19:07:00.252924Z",
          "iopub.status.busy": "2021-03-22T19:07:00.251877Z",
          "iopub.status.idle": "2021-03-22T19:07:00.257064Z",
          "shell.execute_reply": "2021-03-22T19:07:00.256512Z"
        },
        "papermill": {
          "duration": 0.039163,
          "end_time": "2021-03-22T19:07:00.257202",
          "exception": false,
          "start_time": "2021-03-22T19:07:00.218039",
          "status": "completed"
        },
        "tags": [],
        "id": "zZfeCUGpqble",
        "outputId": "e833344b-d85d-4da3-f515-c6679e2510d1"
      },
      "outputs": [
        {
          "data": {
            "text/plain": [
              "78786"
            ]
          },
          "execution_count": 5,
          "metadata": {},
          "output_type": "execute_result"
        }
      ],
      "source": [
        "len(class1)"
      ]
    },
    {
      "cell_type": "code",
      "execution_count": null,
      "metadata": {
        "execution": {
          "iopub.execute_input": "2021-03-22T19:07:00.335113Z",
          "iopub.status.busy": "2021-03-22T19:07:00.324760Z",
          "iopub.status.idle": "2021-03-22T19:07:00.510010Z",
          "shell.execute_reply": "2021-03-22T19:07:00.510597Z"
        },
        "papermill": {
          "duration": 0.226865,
          "end_time": "2021-03-22T19:07:00.510828",
          "exception": false,
          "start_time": "2021-03-22T19:07:00.283963",
          "status": "completed"
        },
        "tags": [],
        "id": "dpTMluXSqble",
        "outputId": "39cdcd64-0fb4-4f9f-b91b-64e5042d2342"
      },
      "outputs": [
        {
          "data": {
            "text/plain": [
              "78786"
            ]
          },
          "execution_count": 6,
          "metadata": {},
          "output_type": "execute_result"
        }
      ],
      "source": [
        "sampled_class0 = random.sample(class0, 78786)\n",
        "sampled_class1 = random.sample(class1, 78786)\n",
        "len(sampled_class0)"
      ]
    },
    {
      "cell_type": "code",
      "execution_count": null,
      "metadata": {
        "execution": {
          "iopub.execute_input": "2021-03-22T19:07:00.589794Z",
          "iopub.status.busy": "2021-03-22T19:07:00.589031Z",
          "iopub.status.idle": "2021-03-22T19:07:00.795217Z",
          "shell.execute_reply": "2021-03-22T19:07:00.794433Z"
        },
        "papermill": {
          "duration": 0.256353,
          "end_time": "2021-03-22T19:07:00.795366",
          "exception": false,
          "start_time": "2021-03-22T19:07:00.539013",
          "status": "completed"
        },
        "tags": [],
        "id": "Zh4wdIyRqble"
      },
      "outputs": [],
      "source": [
        "from matplotlib.image import imread\n",
        "import cv2\n",
        "\n",
        "def get_image_arrays(data, label):\n",
        "    img_arrays = []\n",
        "    for i in data:\n",
        "      if i.endswith('.png'):\n",
        "        img = cv2.imread(i ,cv2.IMREAD_COLOR)\n",
        "        img_sized = cv2.resize(img, (50, 50), interpolation=cv2.INTER_LINEAR)\n",
        "        img_arrays.append([img_sized, label])\n",
        "    return img_arrays"
      ]
    },
    {
      "cell_type": "code",
      "execution_count": null,
      "metadata": {
        "execution": {
          "iopub.execute_input": "2021-03-22T19:07:00.856156Z",
          "iopub.status.busy": "2021-03-22T19:07:00.855238Z",
          "iopub.status.idle": "2021-03-22T19:32:14.455918Z",
          "shell.execute_reply": "2021-03-22T19:32:14.454604Z"
        },
        "papermill": {
          "duration": 1513.632925,
          "end_time": "2021-03-22T19:32:14.456070",
          "exception": false,
          "start_time": "2021-03-22T19:07:00.823145",
          "status": "completed"
        },
        "tags": [],
        "id": "cdCNgP_Fqble"
      },
      "outputs": [],
      "source": [
        "class0_array = get_image_arrays(sampled_class0, 0)\n",
        "class1_array = get_image_arrays(sampled_class1, 1)"
      ]
    },
    {
      "cell_type": "code",
      "execution_count": null,
      "metadata": {
        "execution": {
          "iopub.execute_input": "2021-03-22T19:32:14.524277Z",
          "iopub.status.busy": "2021-03-22T19:32:14.523131Z",
          "iopub.status.idle": "2021-03-22T19:32:14.527570Z",
          "shell.execute_reply": "2021-03-22T19:32:14.528087Z"
        },
        "papermill": {
          "duration": 0.043531,
          "end_time": "2021-03-22T19:32:14.528272",
          "exception": false,
          "start_time": "2021-03-22T19:32:14.484741",
          "status": "completed"
        },
        "tags": [],
        "id": "Z-_xhZWvqblf",
        "outputId": "dffb5819-5ad6-4b90-b517-9d6121eb24e6"
      },
      "outputs": [
        {
          "data": {
            "text/plain": [
              "[array([[[233, 231, 239],\n",
              "         [225, 220, 236],\n",
              "         [224, 214, 235],\n",
              "         ...,\n",
              "         [218, 209, 237],\n",
              "         [224, 219, 235],\n",
              "         [209, 190, 235]],\n",
              " \n",
              "        [[218, 209, 237],\n",
              "         [234, 230, 242],\n",
              "         [221, 214, 234],\n",
              "         ...,\n",
              "         [164, 140, 221],\n",
              "         [169, 148, 226],\n",
              "         [195, 181, 234]],\n",
              " \n",
              "        [[236, 233, 240],\n",
              "         [233, 227, 237],\n",
              "         [198, 187, 227],\n",
              "         ...,\n",
              "         [189, 174, 230],\n",
              "         [185, 168, 229],\n",
              "         [176, 158, 232]],\n",
              " \n",
              "        ...,\n",
              " \n",
              "        [[170, 146, 216],\n",
              "         [163, 135, 210],\n",
              "         [153, 123, 197],\n",
              "         ...,\n",
              "         [187, 167, 231],\n",
              "         [190, 172, 230],\n",
              "         [216, 206, 239]],\n",
              " \n",
              "        [[179, 156, 224],\n",
              "         [192, 169, 225],\n",
              "         [157, 124, 186],\n",
              "         ...,\n",
              "         [214, 202, 236],\n",
              "         [218, 211, 236],\n",
              "         [232, 225, 241]],\n",
              " \n",
              "        [[186, 160, 218],\n",
              "         [172, 139, 192],\n",
              "         [181, 161, 225],\n",
              "         ...,\n",
              "         [236, 234, 242],\n",
              "         [236, 227, 241],\n",
              "         [194, 176, 228]]], dtype=uint8),\n",
              " 0]"
            ]
          },
          "execution_count": 9,
          "metadata": {},
          "output_type": "execute_result"
        }
      ],
      "source": [
        "class0_array[1]"
      ]
    },
    {
      "cell_type": "code",
      "execution_count": null,
      "metadata": {
        "execution": {
          "iopub.execute_input": "2021-03-22T19:32:14.588830Z",
          "iopub.status.busy": "2021-03-22T19:32:14.587699Z",
          "iopub.status.idle": "2021-03-22T19:32:14.595688Z",
          "shell.execute_reply": "2021-03-22T19:32:14.596170Z"
        },
        "papermill": {
          "duration": 0.040652,
          "end_time": "2021-03-22T19:32:14.596387",
          "exception": false,
          "start_time": "2021-03-22T19:32:14.555735",
          "status": "completed"
        },
        "tags": [],
        "id": "uClErCfsqblf",
        "outputId": "a028357f-dd23-4eb4-b3f4-bf555bcdb93c"
      },
      "outputs": [
        {
          "data": {
            "text/plain": [
              "(50, 50, 3)"
            ]
          },
          "execution_count": 10,
          "metadata": {},
          "output_type": "execute_result"
        }
      ],
      "source": [
        "test = cv2.imread('../input/breast-histopathology-images/IDC_regular_ps50_idx5/13689/1/13689_idx5_x801_y1501_class1.png' ,cv2.IMREAD_COLOR)\n",
        "test.shape"
      ]
    },
    {
      "cell_type": "code",
      "execution_count": null,
      "metadata": {
        "execution": {
          "iopub.execute_input": "2021-03-22T19:32:14.719491Z",
          "iopub.status.busy": "2021-03-22T19:32:14.718558Z",
          "iopub.status.idle": "2021-03-22T19:32:15.319517Z",
          "shell.execute_reply": "2021-03-22T19:32:15.318977Z"
        },
        "papermill": {
          "duration": 0.694948,
          "end_time": "2021-03-22T19:32:15.319673",
          "exception": false,
          "start_time": "2021-03-22T19:32:14.624725",
          "status": "completed"
        },
        "tags": [],
        "id": "mP6NtPp2qblf",
        "outputId": "a98d32a2-d900-45b3-8ed2-49a0d8bc491d"
      },
      "outputs": [
        {
          "name": "stderr",
          "output_type": "stream",
          "text": [
            "<string>:6: VisibleDeprecationWarning: Creating an ndarray from ragged nested sequences (which is a list-or-tuple of lists-or-tuples-or ndarrays with different lengths or shapes) is deprecated. If you meant to do this, you must specify 'dtype=object' when creating the ndarray\n"
          ]
        }
      ],
      "source": [
        "combined_data = np.concatenate((class0_array, class1_array))\n",
        "random.seed(41)\n",
        "random.shuffle(combined_data)"
      ]
    },
    {
      "cell_type": "code",
      "execution_count": null,
      "metadata": {
        "execution": {
          "iopub.execute_input": "2021-03-22T19:32:15.398369Z",
          "iopub.status.busy": "2021-03-22T19:32:15.393198Z",
          "iopub.status.idle": "2021-03-22T19:32:15.663277Z",
          "shell.execute_reply": "2021-03-22T19:32:15.662725Z"
        },
        "papermill": {
          "duration": 0.31385,
          "end_time": "2021-03-22T19:32:15.663415",
          "exception": false,
          "start_time": "2021-03-22T19:32:15.349565",
          "status": "completed"
        },
        "tags": [],
        "id": "FIJSxbyUqblf"
      },
      "outputs": [],
      "source": [
        "X = []\n",
        "y = []\n",
        "\n",
        "for features,label in combined_data:\n",
        "    X.append(features)\n",
        "    y.append(label)"
      ]
    },
    {
      "cell_type": "code",
      "execution_count": null,
      "metadata": {
        "execution": {
          "iopub.execute_input": "2021-03-22T19:32:15.754089Z",
          "iopub.status.busy": "2021-03-22T19:32:15.752710Z",
          "iopub.status.idle": "2021-03-22T19:32:16.357217Z",
          "shell.execute_reply": "2021-03-22T19:32:16.356683Z"
        },
        "papermill": {
          "duration": 0.663677,
          "end_time": "2021-03-22T19:32:16.357470",
          "exception": false,
          "start_time": "2021-03-22T19:32:15.693793",
          "status": "completed"
        },
        "tags": [],
        "id": "QQwVENH6qblf"
      },
      "outputs": [],
      "source": [
        "# print(X[11].reshape(-1, 50, 50, 3))\n",
        "# reshape X data\n",
        "X = np.array(X).reshape(-1, 50, 50, 3)"
      ]
    },
    {
      "cell_type": "code",
      "execution_count": null,
      "metadata": {
        "execution": {
          "iopub.execute_input": "2021-03-22T19:32:16.423901Z",
          "iopub.status.busy": "2021-03-22T19:32:16.422580Z",
          "iopub.status.idle": "2021-03-22T19:32:16.427522Z",
          "shell.execute_reply": "2021-03-22T19:32:16.426990Z"
        },
        "papermill": {
          "duration": 0.039397,
          "end_time": "2021-03-22T19:32:16.427680",
          "exception": false,
          "start_time": "2021-03-22T19:32:16.388283",
          "status": "completed"
        },
        "tags": [],
        "id": "z9OwHsJJqblf",
        "outputId": "cf59a9d1-736e-4502-a625-4355bd798993"
      },
      "outputs": [
        {
          "data": {
            "text/plain": [
              "(157572, 50, 50, 3)"
            ]
          },
          "execution_count": 14,
          "metadata": {},
          "output_type": "execute_result"
        }
      ],
      "source": [
        "X.shape"
      ]
    },
    {
      "cell_type": "code",
      "execution_count": null,
      "metadata": {
        "execution": {
          "iopub.execute_input": "2021-03-22T19:32:16.500728Z",
          "iopub.status.busy": "2021-03-22T19:32:16.496513Z",
          "iopub.status.idle": "2021-03-22T19:32:17.042258Z",
          "shell.execute_reply": "2021-03-22T19:32:17.041734Z"
        },
        "papermill": {
          "duration": 0.584286,
          "end_time": "2021-03-22T19:32:17.042415",
          "exception": false,
          "start_time": "2021-03-22T19:32:16.458129",
          "status": "completed"
        },
        "tags": [],
        "id": "zB_Of0VGqblg",
        "outputId": "fffa1338-8f95-41f9-9a1b-e7e4c04de19c"
      },
      "outputs": [
        {
          "name": "stdout",
          "output_type": "stream",
          "text": [
            "(118179, 50, 50, 3) (39393, 50, 50, 3) (118179, 2) (39393, 2)\n"
          ]
        }
      ],
      "source": [
        "X_train, X_test, y_train, y_test = train_test_split(X, y, test_size=0.25, random_state=42)\n",
        "y_train = to_categorical(y_train)\n",
        "y_test = to_categorical(y_test)\n",
        "print(X_train.shape, X_test.shape, y_train.shape, y_test.shape)"
      ]
    },
    {
      "cell_type": "code",
      "execution_count": null,
      "metadata": {
        "execution": {
          "iopub.execute_input": "2021-03-22T19:32:17.113520Z",
          "iopub.status.busy": "2021-03-22T19:32:17.112887Z",
          "iopub.status.idle": "2021-03-22T19:32:22.295555Z",
          "shell.execute_reply": "2021-03-22T19:32:22.296455Z"
        },
        "papermill": {
          "duration": 5.222895,
          "end_time": "2021-03-22T19:32:22.296667",
          "exception": false,
          "start_time": "2021-03-22T19:32:17.073772",
          "status": "completed"
        },
        "tags": [],
        "id": "ABdzloj0qblg",
        "outputId": "93d665ba-5712-4565-fed6-a81d4e96431c"
      },
      "outputs": [
        {
          "name": "stdout",
          "output_type": "stream",
          "text": [
            "Downloading data from https://storage.googleapis.com/tensorflow/keras-applications/vgg16/vgg16_weights_tf_dim_ordering_tf_kernels_notop.h5\n",
            "58892288/58889256 [==============================] - 1s 0us/step\n"
          ]
        }
      ],
      "source": [
        "base_model = tf.keras.applications.VGG16(input_shape=(50,50,3),include_top=False,weights=\"imagenet\")"
      ]
    },
    {
      "cell_type": "code",
      "execution_count": null,
      "metadata": {
        "execution": {
          "iopub.execute_input": "2021-03-22T19:32:22.426902Z",
          "iopub.status.busy": "2021-03-22T19:32:22.425981Z",
          "iopub.status.idle": "2021-03-22T19:32:22.429218Z",
          "shell.execute_reply": "2021-03-22T19:32:22.429989Z"
        },
        "papermill": {
          "duration": 0.07229,
          "end_time": "2021-03-22T19:32:22.430221",
          "exception": false,
          "start_time": "2021-03-22T19:32:22.357931",
          "status": "completed"
        },
        "tags": [],
        "id": "1Yz5Z_yAqblg"
      },
      "outputs": [],
      "source": [
        "# Freezing Layers\n",
        "\n",
        "for layer in base_model.layers[:-5]:\n",
        "    layer.trainable=False"
      ]
    },
    {
      "cell_type": "code",
      "execution_count": null,
      "metadata": {
        "execution": {
          "iopub.execute_input": "2021-03-22T19:32:22.576289Z",
          "iopub.status.busy": "2021-03-22T19:32:22.575135Z",
          "iopub.status.idle": "2021-03-22T19:32:22.656844Z",
          "shell.execute_reply": "2021-03-22T19:32:22.656242Z"
        },
        "papermill": {
          "duration": 0.166329,
          "end_time": "2021-03-22T19:32:22.656983",
          "exception": false,
          "start_time": "2021-03-22T19:32:22.490654",
          "status": "completed"
        },
        "tags": [],
        "id": "3N_vs5KIqblh"
      },
      "outputs": [],
      "source": [
        "# Building Model\n",
        "\n",
        "model=Sequential()\n",
        "model.add(base_model)\n",
        "model.add(Dropout(0.5))\n",
        "model.add(Flatten())\n",
        "model.add(Dense(2,activation='softmax'))"
      ]
    },
    {
      "cell_type": "code",
      "execution_count": null,
      "metadata": {
        "execution": {
          "iopub.execute_input": "2021-03-22T19:32:22.735433Z",
          "iopub.status.busy": "2021-03-22T19:32:22.733518Z",
          "iopub.status.idle": "2021-03-22T19:32:22.745012Z",
          "shell.execute_reply": "2021-03-22T19:32:22.745545Z"
        },
        "papermill": {
          "duration": 0.051883,
          "end_time": "2021-03-22T19:32:22.745705",
          "exception": false,
          "start_time": "2021-03-22T19:32:22.693822",
          "status": "completed"
        },
        "tags": [],
        "id": "g9mmqsK2qblh",
        "outputId": "1d744368-4100-45b9-c170-fd00f4381779"
      },
      "outputs": [
        {
          "name": "stdout",
          "output_type": "stream",
          "text": [
            "Model: \"sequential\"\n",
            "_________________________________________________________________\n",
            "Layer (type)                 Output Shape              Param #   \n",
            "=================================================================\n",
            "vgg16 (Functional)           (None, 1, 1, 512)         14714688  \n",
            "_________________________________________________________________\n",
            "dropout (Dropout)            (None, 1, 1, 512)         0         \n",
            "_________________________________________________________________\n",
            "flatten (Flatten)            (None, 512)               0         \n",
            "_________________________________________________________________\n",
            "dense (Dense)                (None, 2)                 1026      \n",
            "=================================================================\n",
            "Total params: 14,715,714\n",
            "Trainable params: 7,080,450\n",
            "Non-trainable params: 7,635,264\n",
            "_________________________________________________________________\n"
          ]
        }
      ],
      "source": [
        "# Model Summary\n",
        "\n",
        "model.summary()"
      ]
    },
    {
      "cell_type": "code",
      "execution_count": null,
      "metadata": {
        "execution": {
          "iopub.execute_input": "2021-03-22T19:32:22.826379Z",
          "iopub.status.busy": "2021-03-22T19:32:22.825325Z",
          "iopub.status.idle": "2021-03-22T19:32:23.669354Z",
          "shell.execute_reply": "2021-03-22T19:32:23.669923Z"
        },
        "papermill": {
          "duration": 0.887143,
          "end_time": "2021-03-22T19:32:23.670142",
          "exception": false,
          "start_time": "2021-03-22T19:32:22.782999",
          "status": "completed"
        },
        "tags": [],
        "id": "r5YyuGV3qblh",
        "outputId": "ae7fd56a-739f-48b9-d493-de44928c1eb9"
      },
      "outputs": [
        {
          "data": {
            "image/png": "[encoded data removed]",
            "text/plain": [
              "<IPython.core.display.Image object>"
            ]
          },
          "execution_count": 20,
          "metadata": {},
          "output_type": "execute_result"
        }
      ],
      "source": [
        "from tensorflow.keras.utils import plot_model\n",
        "from IPython.display import Image\n",
        "plot_model(model, to_file='convnet.png', show_shapes=True,show_layer_names=True)\n",
        "Image(filename='convnet.png') "
      ]
    },
    {
      "cell_type": "code",
      "execution_count": null,
      "metadata": {
        "execution": {
          "iopub.execute_input": "2021-03-22T19:32:23.759110Z",
          "iopub.status.busy": "2021-03-22T19:32:23.756671Z",
          "iopub.status.idle": "2021-03-22T19:32:23.759878Z",
          "shell.execute_reply": "2021-03-22T19:32:23.760399Z"
        },
        "papermill": {
          "duration": 0.050828,
          "end_time": "2021-03-22T19:32:23.760558",
          "exception": false,
          "start_time": "2021-03-22T19:32:23.709730",
          "status": "completed"
        },
        "tags": [],
        "id": "9TRzKFvTqblh"
      },
      "outputs": [],
      "source": [
        "def f1_score(y_true, y_pred): #taken from old keras source code\n",
        "    true_positives = K.sum(K.round(K.clip(y_true * y_pred, 0, 1)))\n",
        "    possible_positives = K.sum(K.round(K.clip(y_true, 0, 1)))\n",
        "    predicted_positives = K.sum(K.round(K.clip(y_pred, 0, 1)))\n",
        "    precision = true_positives / (predicted_positives + K.epsilon())\n",
        "    recall = true_positives / (possible_positives + K.epsilon())\n",
        "    f1_val = 2*(precision*recall)/(precision+recall+K.epsilon())\n",
        "    return f1_val"
      ]
    },
    {
      "cell_type": "code",
      "execution_count": null,
      "metadata": {
        "execution": {
          "iopub.execute_input": "2021-03-22T19:32:23.853274Z",
          "iopub.status.busy": "2021-03-22T19:32:23.852151Z",
          "iopub.status.idle": "2021-03-22T19:32:23.876637Z",
          "shell.execute_reply": "2021-03-22T19:32:23.876041Z"
        },
        "papermill": {
          "duration": 0.076807,
          "end_time": "2021-03-22T19:32:23.876789",
          "exception": false,
          "start_time": "2021-03-22T19:32:23.799982",
          "status": "completed"
        },
        "tags": [],
        "id": "Ajequ0BOqblh"
      },
      "outputs": [],
      "source": [
        "METRICS = [\n",
        "      tf.keras.metrics.BinaryAccuracy(name='accuracy'),\n",
        "      tf.keras.metrics.Precision(name='precision'),\n",
        "      tf.keras.metrics.Recall(name='recall'),  \n",
        "      tf.keras.metrics.AUC(name='auc'),\n",
        "        f1_score,\n",
        "]"
      ]
    },
    {
      "cell_type": "code",
      "execution_count": null,
      "metadata": {
        "execution": {
          "iopub.execute_input": "2021-03-22T19:32:23.960332Z",
          "iopub.status.busy": "2021-03-22T19:32:23.959429Z",
          "iopub.status.idle": "2021-03-22T19:32:23.963341Z",
          "shell.execute_reply": "2021-03-22T19:32:23.963890Z"
        },
        "papermill": {
          "duration": 0.048716,
          "end_time": "2021-03-22T19:32:23.964032",
          "exception": false,
          "start_time": "2021-03-22T19:32:23.915316",
          "status": "completed"
        },
        "tags": [],
        "id": "sW3vjonNqblh"
      },
      "outputs": [],
      "source": [
        "lrd = ReduceLROnPlateau(monitor = 'val_loss',patience = 5,verbose = 1,factor = 0.75, min_lr = 1e-10)\n",
        "\n",
        "mcp = ModelCheckpoint('model.h5')\n",
        "\n",
        "es = EarlyStopping(verbose=1, patience=5)"
      ]
    },
    {
      "cell_type": "code",
      "execution_count": null,
      "metadata": {
        "execution": {
          "iopub.execute_input": "2021-03-22T19:32:24.056328Z",
          "iopub.status.busy": "2021-03-22T19:32:24.051895Z",
          "iopub.status.idle": "2021-03-22T19:32:24.063083Z",
          "shell.execute_reply": "2021-03-22T19:32:24.063659Z"
        },
        "papermill": {
          "duration": 0.060918,
          "end_time": "2021-03-22T19:32:24.063807",
          "exception": false,
          "start_time": "2021-03-22T19:32:24.002889",
          "status": "completed"
        },
        "tags": [],
        "id": "nKhZ9HFiqbli"
      },
      "outputs": [],
      "source": [
        "model.compile(optimizer='Adam', loss='binary_crossentropy',metrics=METRICS)"
      ]
    },
    {
      "cell_type": "code",
      "execution_count": null,
      "metadata": {
        "execution": {
          "iopub.execute_input": "2021-03-22T19:32:24.150242Z",
          "iopub.status.busy": "2021-03-22T19:32:24.149416Z",
          "iopub.status.idle": "2021-03-22T19:38:32.697354Z",
          "shell.execute_reply": "2021-03-22T19:38:32.698230Z"
        },
        "papermill": {
          "duration": 368.595472,
          "end_time": "2021-03-22T19:38:32.698523",
          "exception": false,
          "start_time": "2021-03-22T19:32:24.103051",
          "status": "completed"
        },
        "tags": [],
        "id": "uQ_Ghbbsqbli",
        "outputId": "b990952c-ac6d-4f10-9fd7-1cab89b2a3fa"
      },
      "outputs": [
        {
          "name": "stdout",
          "output_type": "stream",
          "text": [
            "CPU times: user 2 µs, sys: 2 µs, total: 4 µs\n",
            "Wall time: 7.63 µs\n",
            "Epoch 1/5\n",
            "3694/3694 [==============================] - 78s 20ms/step - loss: 0.6798 - accuracy: 0.8452 - precision: 0.8452 - recall: 0.8452 - auc: 0.8436 - f1_score: 0.8452 - val_loss: 0.4296 - val_accuracy: 0.8460 - val_precision: 0.8460 - val_recall: 0.8460 - val_auc: 0.8460 - val_f1_score: 0.8462\n",
            "Epoch 2/5\n",
            "3694/3694 [==============================] - 71s 19ms/step - loss: 0.4271 - accuracy: 0.8475 - precision: 0.8475 - recall: 0.8475 - auc: 0.8475 - f1_score: 0.8475 - val_loss: 0.4295 - val_accuracy: 0.8460 - val_precision: 0.8460 - val_recall: 0.8460 - val_auc: 0.8460 - val_f1_score: 0.8462\n",
            "Epoch 3/5\n",
            "3694/3694 [==============================] - 72s 19ms/step - loss: 0.4292 - accuracy: 0.8462 - precision: 0.8462 - recall: 0.8462 - auc: 0.8462 - f1_score: 0.8462 - val_loss: 0.4295 - val_accuracy: 0.8460 - val_precision: 0.8460 - val_recall: 0.8460 - val_auc: 0.8460 - val_f1_score: 0.8462\n",
            "Epoch 4/5\n",
            "3694/3694 [==============================] - 72s 19ms/step - loss: 0.4279 - accuracy: 0.8470 - precision: 0.8470 - recall: 0.8470 - auc: 0.8467 - f1_score: 0.8470 - val_loss: 0.4295 - val_accuracy: 0.8460 - val_precision: 0.8460 - val_recall: 0.8460 - val_auc: 0.8460 - val_f1_score: 0.8462\n",
            "Epoch 5/5\n",
            "3694/3694 [==============================] - 71s 19ms/step - loss: 0.4258 - accuracy: 0.8482 - precision: 0.8482 - recall: 0.8482 - auc: 0.8481 - f1_score: 0.8482 - val_loss: 0.4296 - val_accuracy: 0.8460 - val_precision: 0.8460 - val_recall: 0.8460 - val_auc: 0.8460 - val_f1_score: 0.8462\n"
          ]
        }
      ],
      "source": [
        "%time\n",
        "history=model.fit(X_train, y_train,validation_data=(X_test, y_test),verbose = 1,epochs = 5,callbacks=[lrd,mcp,es])"
      ]
    },
    {
      "cell_type": "code",
      "execution_count": null,
      "metadata": {
        "execution": {
          "iopub.execute_input": "2021-03-22T19:38:37.031512Z",
          "iopub.status.busy": "2021-03-22T19:38:37.027842Z",
          "iopub.status.idle": "2021-03-22T19:38:37.877099Z",
          "shell.execute_reply": "2021-03-22T19:38:37.877637Z"
        },
        "papermill": {
          "duration": 3.565661,
          "end_time": "2021-03-22T19:38:37.877858",
          "exception": false,
          "start_time": "2021-03-22T19:38:34.312197",
          "status": "completed"
        },
        "tags": [],
        "id": "TBrxlwvvqbli",
        "outputId": "fda92cc4-e786-4e04-8fa1-b272ea609fab"
      },
      "outputs": [
        {
          "data": {
            "image/png": "[encoded data removed]",
            "text/plain": [
              "<Figure size 1440x360 with 5 Axes>"
            ]
          },
          "metadata": {
            "needs_background": "light"
          },
          "output_type": "display_data"
        }
      ],
      "source": [
        "#%% PLOTTING RESULTS (Train vs Validation FOLDER 1)\n",
        "\n",
        "def Train_Val_Plot(acc,val_acc,loss,val_loss,auc,val_auc,precision,val_precision,f1,val_f1):\n",
        "    \n",
        "    fig, (ax1, ax2,ax3,ax4,ax5) = plt.subplots(1,5, figsize= (20,5))\n",
        "    fig.suptitle(\" MODEL'S METRICS VISUALIZATION \")\n",
        "\n",
        "    ax1.plot(range(1, len(acc) + 1), acc)\n",
        "    ax1.plot(range(1, len(val_acc) + 1), val_acc)\n",
        "    ax1.set_title('History of Accuracy')\n",
        "    ax1.set_xlabel('Epochs')\n",
        "    ax1.set_ylabel('Accuracy')\n",
        "    ax1.legend(['training', 'validation'])\n",
        "\n",
        "\n",
        "    ax2.plot(range(1, len(loss) + 1), loss)\n",
        "    ax2.plot(range(1, len(val_loss) + 1), val_loss)\n",
        "    ax2.set_title('History of Loss')\n",
        "    ax2.set_xlabel('Epochs')\n",
        "    ax2.set_ylabel('Loss')\n",
        "    ax2.legend(['training', 'validation'])\n",
        "    \n",
        "    ax3.plot(range(1, len(auc) + 1), auc)\n",
        "    ax3.plot(range(1, len(val_auc) + 1), val_auc)\n",
        "    ax3.set_title('History of AUC')\n",
        "    ax3.set_xlabel('Epochs')\n",
        "    ax3.set_ylabel('AUC')\n",
        "    ax3.legend(['training', 'validation'])\n",
        "    \n",
        "    ax4.plot(range(1, len(precision) + 1), precision)\n",
        "    ax4.plot(range(1, len(val_precision) + 1), val_precision)\n",
        "    ax4.set_title('History of Precision')\n",
        "    ax4.set_xlabel('Epochs')\n",
        "    ax4.set_ylabel('Precision')\n",
        "    ax4.legend(['training', 'validation'])\n",
        "    \n",
        "    ax5.plot(range(1, len(f1) + 1), f1)\n",
        "    ax5.plot(range(1, len(val_f1) + 1), val_f1)\n",
        "    ax5.set_title('History of F1-score')\n",
        "    ax5.set_xlabel('Epochs')\n",
        "    ax5.set_ylabel('F1 score')\n",
        "    ax5.legend(['training', 'validation'])\n",
        "\n",
        "\n",
        "    plt.show()\n",
        "    \n",
        "\n",
        "Train_Val_Plot(history.history['accuracy'],history.history['val_accuracy'],\n",
        "               history.history['loss'],history.history['val_loss'],\n",
        "               history.history['auc'],history.history['val_auc'],\n",
        "               history.history['precision'],history.history['val_precision'],\n",
        "               history.history['f1_score'],history.history['val_f1_score']\n",
        "              )"
      ]
    },
    {
      "cell_type": "code",
      "execution_count": null,
      "metadata": {
        "id": "tdMEUBycqbli"
      },
      "outputs": [],
      "source": [
        "\n"
      ]
    },
    {
      "cell_type": "code",
      "execution_count": null,
      "metadata": {
        "id": "Lf5u8oDDqbli"
      },
      "outputs": [],
      "source": [
        ""
      ]
    },
    {
      "cell_type": "code",
      "execution_count": null,
      "metadata": {
        "id": "GzhIX0Dhqbli"
      },
      "outputs": [],
      "source": [
        ""
      ]
    },
    {
      "cell_type": "code",
      "execution_count": null,
      "metadata": {
        "id": "f7seWtSRqbli"
      },
      "outputs": [],
      "source": [
        "\n"
      ]
    },
    {
      "cell_type": "code",
      "execution_count": null,
      "metadata": {
        "id": "VXbIwBxTqbli"
      },
      "outputs": [],
      "source": [
        ""
      ]
    }
  ],
  "metadata": {
    "kernelspec": {
      "display_name": "Python 3",
      "language": "python",
      "name": "python3"
    },
    "language_info": {
      "codemirror_mode": {
        "name": "ipython",
        "version": 3
      },
      "file_extension": ".py",
      "mimetype": "text/x-python",
      "name": "python",
      "nbconvert_exporter": "python",
      "pygments_lexer": "ipython3",
      "version": "3.7.9"
    },
    "papermill": {
      "default_parameters": {},
      "duration": 2173.753104,
      "end_time": "2021-03-22T19:38:43.281276",
      "environment_variables": {},
      "exception": null,
      "input_path": "__notebook__.ipynb",
      "output_path": "__notebook__.ipynb",
      "parameters": {},
      "start_time": "2021-03-22T19:02:29.528172",
      "version": "2.2.2"
    },
    "colab": {
      "name": "breast-cancer-classification-using-transfer (1).ipynb",
      "provenance": []
    }
  },
  "nbformat": 4,
  "nbformat_minor": 0
}