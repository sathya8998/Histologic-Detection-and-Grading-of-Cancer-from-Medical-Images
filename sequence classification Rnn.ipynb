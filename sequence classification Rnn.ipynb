{
  "nbformat": 4,
  "nbformat_minor": 0,
  "metadata": {
    "colab": {
      "name": "Untitled39.ipynb",
      "provenance": []
    },
    "kernelspec": {
      "name": "python3",
      "display_name": "Python 3"
    },
    "language_info": {
      "name": "python"
    }
  },
  "cells": [
    {
      "cell_type": "code",
      "execution_count": null,
      "metadata": {
        "id": "OBsunF8ptrCv"
      },
      "outputs": [],
      "source": [
        "from random import random\n",
        "from numpy import array\n",
        "from numpy import cumsum\n",
        "from keras.models import Sequential\n",
        "from keras.layers import LSTM\n",
        "from keras.layers import Dense\n",
        "from keras.layers import TimeDistributed\n",
        "from keras.layers import Bidirectional\n",
        " \n",
        "# create a sequence classification instance\n",
        "def get_sequence(n_timesteps):\n",
        "\t# create a sequence of random numbers in [0,1]\n",
        "\tX = array([random() for _ in range(n_timesteps)])\n",
        "\t# calculate cut-off value to change class values\n",
        "\tlimit = n_timesteps/4.0\n",
        "\t# determine the class outcome for each item in cumulative sequence\n",
        "\ty = array([0 if x < limit else 1 for x in cumsum(X)])\n",
        "\t# reshape input and output data to be suitable for LSTMs\n",
        "\tX = X.reshape(1, n_timesteps, 1)\n",
        "\ty = y.reshape(1, n_timesteps, 1)\n",
        "\treturn X, y\n",
        " \n",
        "# define problem properties\n",
        "n_timesteps = 10\n",
        "# define LSTM\n",
        "model = Sequential()\n",
        "model.add(Bidirectional(LSTM(20, return_sequences=True), input_shape=(n_timesteps, 1)))\n",
        "model.add(TimeDistributed(Dense(1, activation='sigmoid')))\n",
        "model.compile(loss='binary_crossentropy', optimizer='adam', metrics=['accuracy'])\n",
        "# train LSTM\n",
        "for epoch in range(1000):\n",
        "\t# generate new random sequence\n",
        "\tX,y = get_sequence(n_timesteps)\n",
        "\t# fit model for one epoch on this sequence\n",
        "\tmodel.fit(X, y, epochs=1, batch_size=1, verbose=2)\n",
        "# evaluate LSTM\n",
        "X,y = get_sequence(n_timesteps)\n",
        "yhat = model.predict_classes(X, verbose=0)\n",
        "for i in range(n_timesteps):\n",
        "\tprint('Expected:', y[0, i], 'Predicted', yhat[0, i])"
      ]
    }
  ]
}