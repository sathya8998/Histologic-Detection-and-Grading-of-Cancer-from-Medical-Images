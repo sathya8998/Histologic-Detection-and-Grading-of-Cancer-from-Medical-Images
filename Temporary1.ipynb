{
  "nbformat": 4,
  "nbformat_minor": 0,
  "metadata": {
    "colab": {
      "name": "Untitled46.ipynb",
      "provenance": []
    },
    "kernelspec": {
      "name": "python3",
      "display_name": "Python 3"
    },
    "language_info": {
      "name": "python"
    }
  },
  "cells": [
    {
      "cell_type": "code",
      "execution_count": 10,
      "metadata": {
        "id": "j1FXo069reZR"
      },
      "outputs": [],
      "source": [
        "\n",
        "def getGradients(original, gradArray):\n",
        "    original_Mat = original\n",
        "    # Convert it to gray\n",
        "    original_Mat = cv2.gray(original_Mat)\n",
        "    #cv::blur(original_Mat, original_Mat, cv2.Size(7, 7))\n",
        "\n",
        "    #Generate grad_x and grad_y\n",
        "    grad_x = cv2.Mat()\n",
        "    grad_y = cv2.Mat()\n",
        "\n",
        "    #Absolute gradient X\n",
        "    abs_grad_x = cv2.Mat()\n",
        "    abs_grad_y = cv2.Mat()\n",
        "\n",
        "    #Gradient Y\n",
        "    cv2.Sobel(original_Mat, grad_y, cv2.CV_16S, 1, 0, 3)\n",
        "    cv2.convertScaleAbs(grad_y, abs_grad_y)\n",
        "\n",
        "    #Gradient X\n",
        "    cv2.Sobel(original_Mat, grad_x, cv2.CV_16S, 1, 0, 3)\n",
        "    cv2.convertScaleAbs(grad_x, abs_grad_x)\n",
        "\n",
        "    #Copy pixel data\n",
        "    pixelX = abs_grad_x.data\n",
        "    pixelY = abs_grad_y.data\n",
        "    #Calculate gradients\n",
        "    for i in range(0, len(grad_x)):\n",
        "                Direction_rad = arctan2(pixelY[i], pixelX[i])\n",
        "                Direction_deg = (int)(180.0 + rad / M_PI * 180.0)\n",
        "\n",
        "                if Direction_deg < min: \n",
        "                        min = Direction_deg\n",
        "                if Direction_deg > max: \n",
        "                        max = Direction_deg\n",
        "                if Direction_deg >= 0 and Direction_deg <= 45: \n",
        "                        grad1[i] = 255\n",
        "                elif Direction_deg >= 45 and Direction_deg <= 90: \n",
        "                        grad2[i] = 255\n",
        "                elif Direction_deg >= 90 and Direction_deg <= 135: \n",
        "                     grad3[i] = 255\n",
        "                elif Direction_deg >= 135 and Direction_deg <= 190: \n",
        "                     grad4[i] = 255\n",
        "                elif Direction_deg >= 190 and Direction_deg <= 225: \n",
        "                     grad5[i] = 255\n",
        "                elif Direction_deg >= 225 and Direction_deg <= 270: \n",
        "                     grad6[i] = 255\n",
        "                elif Direction_deg >= 270 and Direction_deg <= 315: \n",
        "                     grad7[i] = 255\n",
        "                elif Direction_deg >= 315 and Direction_deg <= 360: \n",
        "                     grad8[i] = 255\n",
        "                elif((Direction_deg >= 0 and Direction_deg < 182) or Direction_deg > 357): \n",
        "                     gradArray[i] = 255\n",
        "                else: \n",
        "                      gradArray[i] = 0\n",
        "#Copy pixel data\n",
        "    gradArray[0] = grad1\n",
        "    gradArray[1] = grad2\n",
        "    gradArray[2] = grad3\n",
        "    gradArray[3] = grad4\n",
        "    gradArray[4] = grad5\n",
        "    gradArray[5] = grad6\n",
        "    gradArray[6] = grad7\n",
        "    gradArray[7] = grad8\n",
        "    gradArray[8] = grad9\n",
        "    return gradArray\n",
        "\n",
        "   "
      ]
    }
  ]
}